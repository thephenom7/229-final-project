{
  "nbformat": 4,
  "nbformat_minor": 0,
  "metadata": {
    "colab": {
      "name": "pro1",
      "provenance": [],
      "authorship_tag": "ABX9TyMLye194GOQfKoBVvNWJ3Pa",
      "include_colab_link": true
    },
    "kernelspec": {
      "name": "python3",
      "display_name": "Python 3"
    },
    "language_info": {
      "name": "python"
    }
  },
  "cells": [
    {
      "cell_type": "markdown",
      "metadata": {
        "id": "view-in-github",
        "colab_type": "text"
      },
      "source": [
        "<a href=\"https://colab.research.google.com/github/thephenom7/229-final-project/blob/master/standardisation.ipynb\" target=\"_parent\"><img src=\"https://colab.research.google.com/assets/colab-badge.svg\" alt=\"Open In Colab\"/></a>"
      ]
    },
    {
      "cell_type": "code",
      "metadata": {
        "id": "2I5kjDSBIaFv"
      },
      "source": [
        "import pandas as pd\n",
        "import numpy as np\n",
        "df=pd.read_csv('/content/Acc_new1.csv')"
      ],
      "execution_count": null,
      "outputs": []
    },
    {
      "cell_type": "markdown",
      "metadata": {
        "id": "zCIZNsjdIdPq"
      },
      "source": [
        "# New Section"
      ]
    },
    {
      "cell_type": "code",
      "metadata": {
        "id": "SdwX4i79lM-g"
      },
      "source": [
        ""
      ],
      "execution_count": null,
      "outputs": []
    },
    {
      "cell_type": "code",
      "metadata": {
        "id": "AAEnXjcWJdyo"
      },
      "source": [
        "df.head()\n",
        "df=df.replace((np.inf, -np.inf, np.nan), 0).reset_index(drop=True)"
      ],
      "execution_count": 34,
      "outputs": []
    },
    {
      "cell_type": "code",
      "metadata": {
        "colab": {
          "base_uri": "https://localhost:8080/"
        },
        "id": "NGhqvZ_6lO9J",
        "outputId": "9c5da871-1ae6-4890-e414-cc048d7d9d48"
      },
      "source": [
        "df.isnull().sum()"
      ],
      "execution_count": 35,
      "outputs": [
        {
          "output_type": "execute_result",
          "data": {
            "text/plain": [
              "Accident_Index                                 0\n",
              "Location_Easting_OSGR                          0\n",
              "Location_Northing_OSGR                         0\n",
              "Longitude                                      0\n",
              "Latitude                                       0\n",
              "Police_Force                                   0\n",
              "Accident_Severity                              0\n",
              "Number_of_Vehicles                             0\n",
              "Number_of_Casualties                           0\n",
              "Day_of_Week                                    0\n",
              "Local_Authority_(District)                     0\n",
              "1st_Road_Class                                 0\n",
              "1st_Road_Number                                0\n",
              "Road_Type                                      0\n",
              "Speed_limit                                    0\n",
              "Junction_Detail                                0\n",
              "Junction_Control                               0\n",
              "2nd_Road_Class                                 0\n",
              "2nd_Road_Number                                0\n",
              "Pedestrian_Crossing-Human_Control              0\n",
              "Pedestrian_Crossing-Physical_Facilities        0\n",
              "Light_Conditions                               0\n",
              "Weather_Conditions                             0\n",
              "Road_Surface_Conditions                        0\n",
              "Special_Conditions_at_Site                     0\n",
              "Carriageway_Hazards                            0\n",
              "Urban_or_Rural_Area                            0\n",
              "Did_Police_Officer_Attend_Scene_of_Accident    0\n",
              "dtype: int64"
            ]
          },
          "metadata": {
            "tags": []
          },
          "execution_count": 35
        }
      ]
    },
    {
      "cell_type": "code",
      "metadata": {
        "id": "GzjKJGJSJl9r"
      },
      "source": [
        "from sklearn.preprocessing import StandardScaler"
      ],
      "execution_count": 32,
      "outputs": []
    },
    {
      "cell_type": "code",
      "metadata": {
        "id": "w_nnXw0iPLMo"
      },
      "source": [
        "scaler=StandardScaler()\n",
        "df_scaled=scaler.fit_transform(df)"
      ],
      "execution_count": 36,
      "outputs": []
    },
    {
      "cell_type": "code",
      "metadata": {
        "colab": {
          "base_uri": "https://localhost:8080/"
        },
        "id": "R1AvGffHJqAw",
        "outputId": "85c692d4-dfe8-4e86-f98a-913d8701ba61"
      },
      "source": [
        "np.all(np.isfinite(df))"
      ],
      "execution_count": 37,
      "outputs": [
        {
          "output_type": "execute_result",
          "data": {
            "text/plain": [
              "True"
            ]
          },
          "metadata": {
            "tags": []
          },
          "execution_count": 37
        }
      ]
    },
    {
      "cell_type": "code",
      "metadata": {
        "id": "0kukyJnurNuT"
      },
      "source": [
        "import matplotlib.pyplot as plt\n",
        "%matplotlib inline\n"
      ],
      "execution_count": 39,
      "outputs": []
    },
    {
      "cell_type": "code",
      "metadata": {
        "colab": {
          "base_uri": "https://localhost:8080/",
          "height": 421
        },
        "id": "r8c1m8jRrc43",
        "outputId": "8284ec1d-0ffb-4a02-fb9d-4b7dad0e5e77"
      },
      "source": [
        "plt.hist(df_scaled[:,2],bins=20)"
      ],
      "execution_count": 40,
      "outputs": [
        {
          "output_type": "execute_result",
          "data": {
            "text/plain": [
              "(array([  248.,   356.,  3217.,  2075., 18866.,  8312.,  2863.,  1698.,\n",
              "         6619.,  2506.,  2096.,  3495.,  1334.,  1761.,   814.,   463.,\n",
              "          973.,  1365.,    23.,    54.]),\n",
              " array([-1.94226747, -1.67132361, -1.40037974, -1.12943587, -0.85849201,\n",
              "        -0.58754814, -0.31660427, -0.0456604 ,  0.22528346,  0.49622733,\n",
              "         0.7671712 ,  1.03811506,  1.30905893,  1.5800028 ,  1.85094666,\n",
              "         2.12189053,  2.3928344 ,  2.66377826,  2.93472213,  3.205666  ,\n",
              "         3.47660986]),\n",
              " <a list of 20 Patch objects>)"
            ]
          },
          "metadata": {
            "tags": []
          },
          "execution_count": 40
        },
        {
          "output_type": "display_data",
          "data": {
            "image/png": "[encoded data removed]",
            "text/plain": [
              "<Figure size 432x288 with 1 Axes>"
            ]
          },
          "metadata": {
            "tags": [],
            "needs_background": "light"
          }
        }
      ]
    },
    {
      "cell_type": "code",
      "metadata": {
        "colab": {
          "base_uri": "https://localhost:8080/",
          "height": 439
        },
        "id": "UA4b7dM0rndr",
        "outputId": "5c03ecff-1a77-45e4-f299-7a9279288961"
      },
      "source": [
        "plt.hist(df_scaled[:,1],bins=20)"
      ],
      "execution_count": 41,
      "outputs": [
        {
          "output_type": "execute_result",
          "data": {
            "text/plain": [
              "(array([   47.,   109.,    45.,    84.,   270.,   304.,   570.,  1826.,\n",
              "         2368.,  2844.,  4304.,  6617.,  7074.,  6151.,  8853., 13899.,\n",
              "         1913.,   791.,   727.,   342.]),\n",
              " array([-4.70198665e+00, -4.34014309e+00, -3.97829952e+00, -3.61645596e+00,\n",
              "        -3.25461240e+00, -2.89276884e+00, -2.53092528e+00, -2.16908172e+00,\n",
              "        -1.80723816e+00, -1.44539460e+00, -1.08355104e+00, -7.21707478e-01,\n",
              "        -3.59863917e-01,  1.97964346e-03,  3.63823204e-01,  7.25666765e-01,\n",
              "         1.08751033e+00,  1.44935389e+00,  1.81119745e+00,  2.17304101e+00,\n",
              "         2.53488457e+00]),\n",
              " <a list of 20 Patch objects>)"
            ]
          },
          "metadata": {
            "tags": []
          },
          "execution_count": 41
        },
        {
          "output_type": "display_data",
          "data": {
            "image/png": "[encoded data removed]",
            "text/plain": [
              "<Figure size 432x288 with 1 Axes>"
            ]
          },
          "metadata": {
            "tags": [],
            "needs_background": "light"
          }
        }
      ]
    },
    {
      "cell_type": "code",
      "metadata": {
        "id": "nadaMVFeupzy"
      },
      "source": [
        ""
      ],
      "execution_count": null,
      "outputs": []
    },
    {
      "cell_type": "code",
      "metadata": {
        "id": "FZiZ0EX1uq_H"
      },
      "source": [
        ""
      ],
      "execution_count": null,
      "outputs": []
    },
    {
      "cell_type": "code",
      "metadata": {
        "colab": {
          "base_uri": "https://localhost:8080/",
          "height": 421
        },
        "id": "EHHfDFlerzfM",
        "outputId": "f0345994-f44e-4d39-c090-d0b0fb62c981"
      },
      "source": [
        "plt.hist(df_scaled[:,3],bins=20)"
      ],
      "execution_count": 42,
      "outputs": [
        {
          "output_type": "execute_result",
          "data": {
            "text/plain": [
              "(array([   51.,   105.,    46.,   135.,   302.,   350.,   738.,  2121.,\n",
              "         2099.,  3533.,  4468.,  6547.,  6493.,  6554., 14730.,  7578.,\n",
              "         1624.,   637.,   777.,   250.]),\n",
              " array([-4.58764471, -4.22839565, -3.86914659, -3.50989753, -3.15064847,\n",
              "        -2.79139941, -2.43215034, -2.07290128, -1.71365222, -1.35440316,\n",
              "        -0.9951541 , -0.63590504, -0.27665598,  0.08259308,  0.44184215,\n",
              "         0.80109121,  1.16034027,  1.51958933,  1.87883839,  2.23808745,\n",
              "         2.59733651]),\n",
              " <a list of 20 Patch objects>)"
            ]
          },
          "metadata": {
            "tags": []
          },
          "execution_count": 42
        },
        {
          "output_type": "display_data",
          "data": {
            "image/png": "[encoded data removed]",
            "text/plain": [
              "<Figure size 432x288 with 1 Axes>"
            ]
          },
          "metadata": {
            "tags": [],
            "needs_background": "light"
          }
        }
      ]
    },
    {
      "cell_type": "code",
      "metadata": {
        "id": "fGRzyPh_r1Lz"
      },
      "source": [
        "###min max scaling"
      ],
      "execution_count": 43,
      "outputs": []
    },
    {
      "cell_type": "code",
      "metadata": {
        "colab": {
          "base_uri": "https://localhost:8080/",
          "height": 206
        },
        "id": "CfGQg0YIsRgi",
        "outputId": "2de6673c-cc36-44b4-8adf-bcecc31c379e"
      },
      "source": [
        "from sklearn.preprocessing import MinMaxScaler\n",
        "minmax=MinMaxScaler()\n",
        "df_minmax=pd.DataFrame(minmax.fit_transform(df))\n",
        "df_minmax.head()\n"
      ],
      "execution_count": 46,
      "outputs": [
        {
          "output_type": "execute_result",
          "data": {
            "text/html": [
              "<div>\n",
              "<style scoped>\n",
              "    .dataframe tbody tr th:only-of-type {\n",
              "        vertical-align: middle;\n",
              "    }\n",
              "\n",
              "    .dataframe tbody tr th {\n",
              "        vertical-align: top;\n",
              "    }\n",
              "\n",
              "    .dataframe thead th {\n",
              "        text-align: right;\n",
              "    }\n",
              "</style>\n",
              "<table border=\"1\" class=\"dataframe\">\n",
              "  <thead>\n",
              "    <tr style=\"text-align: right;\">\n",
              "      <th></th>\n",
              "      <th>0</th>\n",
              "      <th>1</th>\n",
              "      <th>2</th>\n",
              "      <th>3</th>\n",
              "      <th>4</th>\n",
              "      <th>5</th>\n",
              "      <th>6</th>\n",
              "      <th>7</th>\n",
              "      <th>8</th>\n",
              "      <th>9</th>\n",
              "      <th>10</th>\n",
              "      <th>11</th>\n",
              "      <th>12</th>\n",
              "      <th>13</th>\n",
              "      <th>14</th>\n",
              "      <th>15</th>\n",
              "      <th>16</th>\n",
              "      <th>17</th>\n",
              "      <th>18</th>\n",
              "      <th>19</th>\n",
              "      <th>20</th>\n",
              "      <th>21</th>\n",
              "      <th>22</th>\n",
              "      <th>23</th>\n",
              "      <th>24</th>\n",
              "      <th>25</th>\n",
              "      <th>26</th>\n",
              "      <th>27</th>\n",
              "    </tr>\n",
              "  </thead>\n",
              "  <tbody>\n",
              "    <tr>\n",
              "      <th>0</th>\n",
              "      <td>1.0</td>\n",
              "      <td>0.764580</td>\n",
              "      <td>0.264433</td>\n",
              "      <td>0.753312</td>\n",
              "      <td>0.268914</td>\n",
              "      <td>0.0</td>\n",
              "      <td>1.0</td>\n",
              "      <td>0.125</td>\n",
              "      <td>0.00</td>\n",
              "      <td>0.0</td>\n",
              "      <td>0.041611</td>\n",
              "      <td>0.4</td>\n",
              "      <td>0.107329</td>\n",
              "      <td>0.000</td>\n",
              "      <td>0.2</td>\n",
              "      <td>0.000</td>\n",
              "      <td>1.000000</td>\n",
              "      <td>0.6</td>\n",
              "      <td>0.015768</td>\n",
              "      <td>0.0</td>\n",
              "      <td>0.500</td>\n",
              "      <td>0.5</td>\n",
              "      <td>0.125</td>\n",
              "      <td>0.25</td>\n",
              "      <td>0.0</td>\n",
              "      <td>0.0</td>\n",
              "      <td>0.0</td>\n",
              "      <td>0.0</td>\n",
              "    </tr>\n",
              "    <tr>\n",
              "      <th>1</th>\n",
              "      <td>1.0</td>\n",
              "      <td>0.763291</td>\n",
              "      <td>0.255266</td>\n",
              "      <td>0.751717</td>\n",
              "      <td>0.259867</td>\n",
              "      <td>0.0</td>\n",
              "      <td>0.5</td>\n",
              "      <td>0.000</td>\n",
              "      <td>0.00</td>\n",
              "      <td>0.0</td>\n",
              "      <td>0.004027</td>\n",
              "      <td>0.4</td>\n",
              "      <td>0.011275</td>\n",
              "      <td>0.250</td>\n",
              "      <td>0.0</td>\n",
              "      <td>0.625</td>\n",
              "      <td>0.333333</td>\n",
              "      <td>0.4</td>\n",
              "      <td>0.000928</td>\n",
              "      <td>0.0</td>\n",
              "      <td>0.625</td>\n",
              "      <td>0.5</td>\n",
              "      <td>0.000</td>\n",
              "      <td>0.25</td>\n",
              "      <td>0.0</td>\n",
              "      <td>0.0</td>\n",
              "      <td>0.0</td>\n",
              "      <td>0.0</td>\n",
              "    </tr>\n",
              "    <tr>\n",
              "      <th>2</th>\n",
              "      <td>1.0</td>\n",
              "      <td>0.738398</td>\n",
              "      <td>0.263251</td>\n",
              "      <td>0.726939</td>\n",
              "      <td>0.268278</td>\n",
              "      <td>0.0</td>\n",
              "      <td>0.5</td>\n",
              "      <td>0.000</td>\n",
              "      <td>0.00</td>\n",
              "      <td>0.0</td>\n",
              "      <td>0.038926</td>\n",
              "      <td>0.4</td>\n",
              "      <td>0.000000</td>\n",
              "      <td>0.250</td>\n",
              "      <td>0.6</td>\n",
              "      <td>0.000</td>\n",
              "      <td>0.333333</td>\n",
              "      <td>0.4</td>\n",
              "      <td>0.526435</td>\n",
              "      <td>0.0</td>\n",
              "      <td>0.500</td>\n",
              "      <td>0.5</td>\n",
              "      <td>0.125</td>\n",
              "      <td>0.25</td>\n",
              "      <td>0.0</td>\n",
              "      <td>0.0</td>\n",
              "      <td>0.0</td>\n",
              "      <td>0.0</td>\n",
              "    </tr>\n",
              "    <tr>\n",
              "      <th>3</th>\n",
              "      <td>1.0</td>\n",
              "      <td>0.763740</td>\n",
              "      <td>0.259722</td>\n",
              "      <td>0.752314</td>\n",
              "      <td>0.264268</td>\n",
              "      <td>0.0</td>\n",
              "      <td>1.0</td>\n",
              "      <td>0.125</td>\n",
              "      <td>0.12</td>\n",
              "      <td>0.0</td>\n",
              "      <td>0.040268</td>\n",
              "      <td>0.4</td>\n",
              "      <td>0.107329</td>\n",
              "      <td>0.625</td>\n",
              "      <td>0.2</td>\n",
              "      <td>0.625</td>\n",
              "      <td>0.333333</td>\n",
              "      <td>0.6</td>\n",
              "      <td>0.014016</td>\n",
              "      <td>0.0</td>\n",
              "      <td>0.625</td>\n",
              "      <td>0.5</td>\n",
              "      <td>0.125</td>\n",
              "      <td>0.25</td>\n",
              "      <td>0.0</td>\n",
              "      <td>0.0</td>\n",
              "      <td>0.0</td>\n",
              "      <td>0.0</td>\n",
              "    </tr>\n",
              "    <tr>\n",
              "      <th>4</th>\n",
              "      <td>1.0</td>\n",
              "      <td>0.778746</td>\n",
              "      <td>0.260456</td>\n",
              "      <td>0.767424</td>\n",
              "      <td>0.264666</td>\n",
              "      <td>0.0</td>\n",
              "      <td>1.0</td>\n",
              "      <td>0.125</td>\n",
              "      <td>0.00</td>\n",
              "      <td>0.0</td>\n",
              "      <td>0.017450</td>\n",
              "      <td>0.4</td>\n",
              "      <td>0.107223</td>\n",
              "      <td>0.625</td>\n",
              "      <td>0.2</td>\n",
              "      <td>0.625</td>\n",
              "      <td>0.333333</td>\n",
              "      <td>0.4</td>\n",
              "      <td>0.011543</td>\n",
              "      <td>0.0</td>\n",
              "      <td>0.500</td>\n",
              "      <td>0.5</td>\n",
              "      <td>0.125</td>\n",
              "      <td>0.25</td>\n",
              "      <td>0.0</td>\n",
              "      <td>0.0</td>\n",
              "      <td>0.0</td>\n",
              "      <td>0.0</td>\n",
              "    </tr>\n",
              "  </tbody>\n",
              "</table>\n",
              "</div>"
            ],
            "text/plain": [
              "    0         1         2         3         4   ...    23   24   25   26   27\n",
              "0  1.0  0.764580  0.264433  0.753312  0.268914  ...  0.25  0.0  0.0  0.0  0.0\n",
              "1  1.0  0.763291  0.255266  0.751717  0.259867  ...  0.25  0.0  0.0  0.0  0.0\n",
              "2  1.0  0.738398  0.263251  0.726939  0.268278  ...  0.25  0.0  0.0  0.0  0.0\n",
              "3  1.0  0.763740  0.259722  0.752314  0.264268  ...  0.25  0.0  0.0  0.0  0.0\n",
              "4  1.0  0.778746  0.260456  0.767424  0.264666  ...  0.25  0.0  0.0  0.0  0.0\n",
              "\n",
              "[5 rows x 28 columns]"
            ]
          },
          "metadata": {
            "tags": []
          },
          "execution_count": 46
        }
      ]
    },
    {
      "cell_type": "code",
      "metadata": {
        "id": "dQrknVdhtIjJ"
      },
      "source": [
        "###Robust scaler\n",
        "#X-scaled=X - X.median/IQR\n",
        "#IQR=75th percentile - 25th percentile"
      ],
      "execution_count": null,
      "outputs": []
    },
    {
      "cell_type": "code",
      "metadata": {
        "colab": {
          "base_uri": "https://localhost:8080/",
          "height": 226
        },
        "id": "0Wa3pmlZuG1Y",
        "outputId": "c504f82f-64eb-4326-fbd0-3dce51575c53"
      },
      "source": [
        "from sklearn.preprocessing import RobustScaler\n",
        "robust=RobustScaler()\n",
        "arrobust=robust.fit_transform(df)\n",
        "df_robust=pd.DataFrame(arrobust)\n",
        "df_robust.head()\n"
      ],
      "execution_count": 49,
      "outputs": [
        {
          "output_type": "execute_result",
          "data": {
            "text/html": [
              "<div>\n",
              "<style scoped>\n",
              "    .dataframe tbody tr th:only-of-type {\n",
              "        vertical-align: middle;\n",
              "    }\n",
              "\n",
              "    .dataframe tbody tr th {\n",
              "        vertical-align: top;\n",
              "    }\n",
              "\n",
              "    .dataframe thead th {\n",
              "        text-align: right;\n",
              "    }\n",
              "</style>\n",
              "<table border=\"1\" class=\"dataframe\">\n",
              "  <thead>\n",
              "    <tr style=\"text-align: right;\">\n",
              "      <th></th>\n",
              "      <th>0</th>\n",
              "      <th>1</th>\n",
              "      <th>2</th>\n",
              "      <th>3</th>\n",
              "      <th>4</th>\n",
              "      <th>5</th>\n",
              "      <th>6</th>\n",
              "      <th>7</th>\n",
              "      <th>8</th>\n",
              "      <th>9</th>\n",
              "      <th>10</th>\n",
              "      <th>11</th>\n",
              "      <th>12</th>\n",
              "      <th>13</th>\n",
              "      <th>14</th>\n",
              "      <th>15</th>\n",
              "      <th>16</th>\n",
              "      <th>17</th>\n",
              "      <th>18</th>\n",
              "      <th>19</th>\n",
              "      <th>20</th>\n",
              "      <th>21</th>\n",
              "      <th>22</th>\n",
              "      <th>23</th>\n",
              "      <th>24</th>\n",
              "      <th>25</th>\n",
              "      <th>26</th>\n",
              "      <th>27</th>\n",
              "    </tr>\n",
              "  </thead>\n",
              "  <tbody>\n",
              "    <tr>\n",
              "      <th>0</th>\n",
              "      <td>0.0</td>\n",
              "      <td>0.462180</td>\n",
              "      <td>0.011391</td>\n",
              "      <td>0.460605</td>\n",
              "      <td>0.009124</td>\n",
              "      <td>-0.452381</td>\n",
              "      <td>0.000000</td>\n",
              "      <td>0.00000</td>\n",
              "      <td>-0.198664</td>\n",
              "      <td>-1.574101</td>\n",
              "      <td>-0.581081</td>\n",
              "      <td>0.0</td>\n",
              "      <td>0.524230</td>\n",
              "      <td>-1.187890</td>\n",
              "      <td>-0.083526</td>\n",
              "      <td>-0.622585</td>\n",
              "      <td>0.159401</td>\n",
              "      <td>0.802108</td>\n",
              "      <td>-0.148860</td>\n",
              "      <td>0.0</td>\n",
              "      <td>0.966825</td>\n",
              "      <td>1.453157</td>\n",
              "      <td>2.339739</td>\n",
              "      <td>2.089996</td>\n",
              "      <td>0.0</td>\n",
              "      <td>0.0</td>\n",
              "      <td>0.0</td>\n",
              "      <td>-0.155962</td>\n",
              "    </tr>\n",
              "    <tr>\n",
              "      <th>1</th>\n",
              "      <td>0.0</td>\n",
              "      <td>0.455472</td>\n",
              "      <td>-0.031694</td>\n",
              "      <td>0.452183</td>\n",
              "      <td>-0.033864</td>\n",
              "      <td>-0.452381</td>\n",
              "      <td>-6.095502</td>\n",
              "      <td>-4.18887</td>\n",
              "      <td>-0.198664</td>\n",
              "      <td>-1.574101</td>\n",
              "      <td>-0.644144</td>\n",
              "      <td>0.0</td>\n",
              "      <td>-0.241614</td>\n",
              "      <td>-0.521224</td>\n",
              "      <td>-0.693316</td>\n",
              "      <td>0.933878</td>\n",
              "      <td>-1.021563</td>\n",
              "      <td>-0.197892</td>\n",
              "      <td>-0.205569</td>\n",
              "      <td>0.0</td>\n",
              "      <td>1.249204</td>\n",
              "      <td>1.453157</td>\n",
              "      <td>-0.064840</td>\n",
              "      <td>2.089996</td>\n",
              "      <td>0.0</td>\n",
              "      <td>0.0</td>\n",
              "      <td>0.0</td>\n",
              "      <td>-0.155962</td>\n",
              "    </tr>\n",
              "    <tr>\n",
              "      <th>2</th>\n",
              "      <td>0.0</td>\n",
              "      <td>0.325981</td>\n",
              "      <td>0.005836</td>\n",
              "      <td>0.321317</td>\n",
              "      <td>0.006104</td>\n",
              "      <td>-0.452381</td>\n",
              "      <td>-6.095502</td>\n",
              "      <td>-4.18887</td>\n",
              "      <td>-0.198664</td>\n",
              "      <td>-1.574101</td>\n",
              "      <td>-0.585586</td>\n",
              "      <td>0.0</td>\n",
              "      <td>-0.331514</td>\n",
              "      <td>-0.521224</td>\n",
              "      <td>1.136054</td>\n",
              "      <td>-0.622585</td>\n",
              "      <td>-1.021563</td>\n",
              "      <td>-0.197892</td>\n",
              "      <td>1.802472</td>\n",
              "      <td>0.0</td>\n",
              "      <td>0.966825</td>\n",
              "      <td>1.453157</td>\n",
              "      <td>2.339739</td>\n",
              "      <td>2.089996</td>\n",
              "      <td>0.0</td>\n",
              "      <td>0.0</td>\n",
              "      <td>0.0</td>\n",
              "      <td>-0.155962</td>\n",
              "    </tr>\n",
              "    <tr>\n",
              "      <th>3</th>\n",
              "      <td>0.0</td>\n",
              "      <td>0.457810</td>\n",
              "      <td>-0.010752</td>\n",
              "      <td>0.455332</td>\n",
              "      <td>-0.012951</td>\n",
              "      <td>-0.452381</td>\n",
              "      <td>0.000000</td>\n",
              "      <td>0.00000</td>\n",
              "      <td>6.438714</td>\n",
              "      <td>-1.574101</td>\n",
              "      <td>-0.583333</td>\n",
              "      <td>0.0</td>\n",
              "      <td>0.524230</td>\n",
              "      <td>0.478776</td>\n",
              "      <td>-0.083526</td>\n",
              "      <td>0.933878</td>\n",
              "      <td>-1.021563</td>\n",
              "      <td>0.802108</td>\n",
              "      <td>-0.155555</td>\n",
              "      <td>0.0</td>\n",
              "      <td>1.249204</td>\n",
              "      <td>1.453157</td>\n",
              "      <td>2.339739</td>\n",
              "      <td>2.089996</td>\n",
              "      <td>0.0</td>\n",
              "      <td>0.0</td>\n",
              "      <td>0.0</td>\n",
              "      <td>-0.155962</td>\n",
              "    </tr>\n",
              "    <tr>\n",
              "      <th>4</th>\n",
              "      <td>0.0</td>\n",
              "      <td>0.535870</td>\n",
              "      <td>-0.007299</td>\n",
              "      <td>0.535134</td>\n",
              "      <td>-0.011064</td>\n",
              "      <td>-0.452381</td>\n",
              "      <td>0.000000</td>\n",
              "      <td>0.00000</td>\n",
              "      <td>-0.198664</td>\n",
              "      <td>-1.574101</td>\n",
              "      <td>-0.621622</td>\n",
              "      <td>0.0</td>\n",
              "      <td>0.523382</td>\n",
              "      <td>0.478776</td>\n",
              "      <td>-0.083526</td>\n",
              "      <td>0.933878</td>\n",
              "      <td>-1.021563</td>\n",
              "      <td>-0.197892</td>\n",
              "      <td>-0.165007</td>\n",
              "      <td>0.0</td>\n",
              "      <td>0.966825</td>\n",
              "      <td>1.453157</td>\n",
              "      <td>2.339739</td>\n",
              "      <td>2.089996</td>\n",
              "      <td>0.0</td>\n",
              "      <td>0.0</td>\n",
              "      <td>0.0</td>\n",
              "      <td>-0.155962</td>\n",
              "    </tr>\n",
              "  </tbody>\n",
              "</table>\n",
              "</div>"
            ],
            "text/plain": [
              "    0         1         2         3   ...   24   25   26        27\n",
              "0  0.0  0.462180  0.011391  0.460605  ...  0.0  0.0  0.0 -0.155962\n",
              "1  0.0  0.455472 -0.031694  0.452183  ...  0.0  0.0  0.0 -0.155962\n",
              "2  0.0  0.325981  0.005836  0.321317  ...  0.0  0.0  0.0 -0.155962\n",
              "3  0.0  0.457810 -0.010752  0.455332  ...  0.0  0.0  0.0 -0.155962\n",
              "4  0.0  0.535870 -0.007299  0.535134  ...  0.0  0.0  0.0 -0.155962\n",
              "\n",
              "[5 rows x 28 columns]"
            ]
          },
          "metadata": {
            "tags": []
          },
          "execution_count": 49
        }
      ]
    },
    {
      "cell_type": "code",
      "metadata": {
        "colab": {
          "base_uri": "https://localhost:8080/",
          "height": 421
        },
        "id": "8NoVSsKrusOH",
        "outputId": "582e1a60-27bf-4134-f4b0-9fef41862c0c"
      },
      "source": [
        "plt.hist(arrobust[:,1],bins=20)"
      ],
      "execution_count": 51,
      "outputs": [
        {
          "output_type": "execute_result",
          "data": {
            "text/plain": [
              "(array([   47.,   109.,    45.,    84.,   270.,   304.,   570.,  1826.,\n",
              "         2368.,  2844.,  4304.,  6617.,  7074.,  6151.,  8853., 13899.,\n",
              "         1913.,   791.,   727.,   342.]),\n",
              " array([-3.51507831, -3.25498405, -2.99488979, -2.73479553, -2.47470128,\n",
              "        -2.21460702, -1.95451276, -1.6944185 , -1.43432425, -1.17422999,\n",
              "        -0.91413573, -0.65404147, -0.39394722, -0.13385296,  0.1262413 ,\n",
              "         0.38633556,  0.64642981,  0.90652407,  1.16661833,  1.42671259,\n",
              "         1.68680685]),\n",
              " <a list of 20 Patch objects>)"
            ]
          },
          "metadata": {
            "tags": []
          },
          "execution_count": 51
        },
        {
          "output_type": "display_data",
          "data": {
            "image/png": "[encoded data removed]",
            "text/plain": [
              "<Figure size 432x288 with 1 Axes>"
            ]
          },
          "metadata": {
            "tags": [],
            "needs_background": "light"
          }
        }
      ]
    },
    {
      "cell_type": "code",
      "metadata": {
        "colab": {
          "base_uri": "https://localhost:8080/",
          "height": 421
        },
        "id": "LV2O6FI2vVA_",
        "outputId": "b7e752d4-6916-4d87-b284-58195148e1e3"
      },
      "source": [
        "plt.hist(arrobust[:,2],bins=20)"
      ],
      "execution_count": 52,
      "outputs": [
        {
          "output_type": "execute_result",
          "data": {
            "text/plain": [
              "(array([  248.,   356.,  3217.,  2075., 18866.,  8312.,  2863.,  1698.,\n",
              "         6619.,  2506.,  2096.,  3495.,  1334.,  1761.,   814.,   463.,\n",
              "          973.,  1365.,    23.,    54.]),\n",
              " array([-1.23139755, -0.99640662, -0.7614157 , -0.52642478, -0.29143386,\n",
              "        -0.05644293,  0.17854799,  0.41353891,  0.64852984,  0.88352076,\n",
              "         1.11851168,  1.35350261,  1.58849353,  1.82348445,  2.05847537,\n",
              "         2.2934663 ,  2.52845722,  2.76344814,  2.99843907,  3.23342999,\n",
              "         3.46842091]),\n",
              " <a list of 20 Patch objects>)"
            ]
          },
          "metadata": {
            "tags": []
          },
          "execution_count": 52
        },
        {
          "output_type": "display_data",
          "data": {
            "image/png": "[encoded data removed]",
            "text/plain": [
              "<Figure size 432x288 with 1 Axes>"
            ]
          },
          "metadata": {
            "tags": [],
            "needs_background": "light"
          }
        }
      ]
    },
    {
      "cell_type": "code",
      "metadata": {
        "colab": {
          "base_uri": "https://localhost:8080/",
          "height": 421
        },
        "id": "zlcFuHXLvZ2S",
        "outputId": "24d18ff6-7ac0-472d-c0a9-e6ec645ad373"
      },
      "source": [
        "plt.hist(arrobust[:,3],bins=20)"
      ],
      "execution_count": 53,
      "outputs": [
        {
          "output_type": "execute_result",
          "data": {
            "text/plain": [
              "(array([   51.,   105.,    46.,   135.,   302.,   350.,   738.,  2121.,\n",
              "         2099.,  3533.,  4468.,  6547.,  6493.,  6554., 14730.,  7578.,\n",
              "         1624.,   637.,   777.,   250.]),\n",
              " array([-3.5179538 , -3.25388269, -2.98981157, -2.72574045, -2.46166933,\n",
              "        -2.19759821, -1.9335271 , -1.66945598, -1.40538486, -1.14131374,\n",
              "        -0.87724262, -0.6131715 , -0.34910039, -0.08502927,  0.17904185,\n",
              "         0.44311297,  0.70718409,  0.9712552 ,  1.23532632,  1.49939744,\n",
              "         1.76346856]),\n",
              " <a list of 20 Patch objects>)"
            ]
          },
          "metadata": {
            "tags": []
          },
          "execution_count": 53
        },
        {
          "output_type": "display_data",
          "data": {
            "image/png": "[encoded data removed]",
            "text/plain": [
              "<Figure size 432x288 with 1 Axes>"
            ]
          },
          "metadata": {
            "tags": [],
            "needs_background": "light"
          }
        }
      ]
    },
    {
      "cell_type": "markdown",
      "metadata": {
        "id": "7Ju8OOWSwydb"
      },
      "source": [
        "\n",
        "Guassian Transformation\n",
        "\n",
        "Some machine learning algorithms like linear and logistic assume that the features are normally distributed -Accuracy -Performance\n",
        "\n",
        "    logarithmic transformation\n",
        "    reciprocal transformation\n",
        "    square root transformation\n",
        "    exponential transformation (more general, you can use any exponent)\n",
        "    boxcox transformation\n",
        "\n"
      ]
    },
    {
      "cell_type": "code",
      "metadata": {
        "id": "o-HmPPn0w0S9"
      },
      "source": [
        "import scipy.stats as stat\n",
        "import pylab\n"
      ],
      "execution_count": 57,
      "outputs": []
    },
    {
      "cell_type": "code",
      "metadata": {
        "id": "7Zg-WQ7ayWka"
      },
      "source": [
        "#### Q-Q plot\n",
        "def plot_data(df,feature):\n",
        "    plt.figure(figsize=(10,6))\n",
        "    plt.subplot(1,2,1)\n",
        "    df[feature].hist()\n",
        "    plt.subplot(1,2,2)\n",
        "    stat.probplot(df[feature],dist='norm',plot=pylab)\n",
        "    plt.show()"
      ],
      "execution_count": 58,
      "outputs": []
    },
    {
      "cell_type": "code",
      "metadata": {
        "colab": {
          "base_uri": "https://localhost:8080/",
          "height": 404
        },
        "id": "cLChugPrydR0",
        "outputId": "9cd339b3-d8d8-4be5-873c-4907f499662d"
      },
      "source": [
        "plot_data(df,'Accident_Severity')"
      ],
      "execution_count": 59,
      "outputs": [
        {
          "output_type": "display_data",
          "data": {
            "image/png": "[encoded data removed]",
            "text/plain": [
              "<Figure size 720x432 with 2 Axes>"
            ]
          },
          "metadata": {
            "tags": [],
            "needs_background": "light"
          }
        }
      ]
    },
    {
      "cell_type": "code",
      "metadata": {
        "colab": {
          "base_uri": "https://localhost:8080/",
          "height": 404
        },
        "id": "XA24ARKWysKx",
        "outputId": "d4b33560-241b-426b-b2da-584edfa92fc8"
      },
      "source": [
        "plot_data(df,'Speed_limit')"
      ],
      "execution_count": 60,
      "outputs": [
        {
          "output_type": "display_data",
          "data": {
            "image/png": "[encoded data removed]",
            "text/plain": [
              "<Figure size 720x432 with 2 Axes>"
            ]
          },
          "metadata": {
            "tags": [],
            "needs_background": "light"
          }
        }
      ]
    },
    {
      "cell_type": "markdown",
      "metadata": {
        "id": "tFOAvvFxzVXa"
      },
      "source": [
        "\n",
        "Logarithmic Transformation¶\n"
      ]
    },
    {
      "cell_type": "code",
      "metadata": {
        "colab": {
          "base_uri": "https://localhost:8080/",
          "height": 404
        },
        "id": "_DldkVYNzWOy",
        "outputId": "a03c05e7-4b78-4660-8044-497cf3f72dc5"
      },
      "source": [
        "df['Accident_Severity_log']=np.log(df['Accident_Severity'])\n",
        "plot_data(df,'Accident_Severity_log')\n"
      ],
      "execution_count": 61,
      "outputs": [
        {
          "output_type": "display_data",
          "data": {
            "image/png": "[encoded data removed]",
            "text/plain": [
              "<Figure size 720x432 with 2 Axes>"
            ]
          },
          "metadata": {
            "tags": [],
            "needs_background": "light"
          }
        }
      ]
    },
    {
      "cell_type": "markdown",
      "metadata": {
        "id": "pZvuab8BzqcO"
      },
      "source": [
        "\n",
        "Reciprocal Trnasformation¶\n"
      ]
    },
    {
      "cell_type": "code",
      "metadata": {
        "colab": {
          "base_uri": "https://localhost:8080/",
          "height": 404
        },
        "id": "jDkjXIfHzreg",
        "outputId": "4fbbcf97-1e1d-4203-fb18-cdd3742066a3"
      },
      "source": [
        "\n",
        "\n",
        "df['Accident_Severity_reciprocal']=1/df.Accident_Severity\n",
        "plot_data(df,'Accident_Severity_reciprocal')\n",
        "\n"
      ],
      "execution_count": 62,
      "outputs": [
        {
          "output_type": "display_data",
          "data": {
            "image/png": "[encoded data removed]",
            "text/plain": [
              "<Figure size 720x432 with 2 Axes>"
            ]
          },
          "metadata": {
            "tags": [],
            "needs_background": "light"
          }
        }
      ]
    },
    {
      "cell_type": "markdown",
      "metadata": {
        "id": "Gipne0aMz_AJ"
      },
      "source": [
        "##### Square Root Transformation"
      ]
    },
    {
      "cell_type": "code",
      "metadata": {
        "colab": {
          "base_uri": "https://localhost:8080/",
          "height": 404
        },
        "id": "WFhZy25q0ANi",
        "outputId": "0d0c02b3-c58b-46ad-d563-f3ba8a6bafba"
      },
      "source": [
        "df['Accident_Severity_sq']=df.Accident_Severity**(1/2)\n",
        "plot_data(df,'Accident_Severity_sq')"
      ],
      "execution_count": 64,
      "outputs": [
        {
          "output_type": "display_data",
          "data": {
            "image/png": "[encoded data removed]",
            "text/plain": [
              "<Figure size 720x432 with 2 Axes>"
            ]
          },
          "metadata": {
            "tags": [],
            "needs_background": "light"
          }
        }
      ]
    },
    {
      "cell_type": "markdown",
      "metadata": {
        "id": "pLBmwkF00POC"
      },
      "source": [
        "#### Exponential Transdormation"
      ]
    },
    {
      "cell_type": "code",
      "metadata": {
        "colab": {
          "base_uri": "https://localhost:8080/",
          "height": 404
        },
        "id": "Oip4k5vu0QHz",
        "outputId": "716576bb-9ebc-4a18-db3a-3150538e254e"
      },
      "source": [
        "df['Accident_Severity_exponential']=df.Accident_Severity**(1/1.2)\n",
        "plot_data(df,'Accident_Severity_exponential')"
      ],
      "execution_count": 65,
      "outputs": [
        {
          "output_type": "display_data",
          "data": {
            "image/png": "[encoded data removed]",
            "text/plain": [
              "<Figure size 720x432 with 2 Axes>"
            ]
          },
          "metadata": {
            "tags": [],
            "needs_background": "light"
          }
        }
      ]
    }
  ]
}